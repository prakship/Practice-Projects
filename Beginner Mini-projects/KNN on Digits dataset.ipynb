{
 "cells": [
  {
   "cell_type": "markdown",
   "metadata": {},
   "source": [
    "# KNN Implentation on Digits dataset"
   ]
  },
  {
   "cell_type": "markdown",
   "metadata": {},
   "source": [
    "Loading libraries"
   ]
  },
  {
   "cell_type": "code",
   "execution_count": 6,
   "metadata": {},
   "outputs": [],
   "source": [
    "from sklearn import datasets\n",
    "import numpy as np\n",
    "import pandas as pd\n",
    "\n",
    "from sklearn import datasets\n",
    "from sklearn.svm import SVC\n",
    "from sklearn.neighbors import KNeighborsClassifier\n",
    "from sklearn.model_selection import train_test_split, GridSearchCV, PredefinedSplit\n",
    "from sklearn.metrics import accuracy_score\n",
    "from sklearn.metrics import classification_report\n",
    "from datetime import datetime\n",
    "\n",
    "import matplotlib\n",
    "import matplotlib.pyplot as plt\n",
    "import seaborn as sns\n",
    "\n",
    "import matplotlib.pyplot as plt\n",
    "%matplotlib inline"
   ]
  },
  {
   "cell_type": "markdown",
   "metadata": {},
   "source": [
    "## Load the Digits Dataset\n"
   ]
  },
  {
   "cell_type": "code",
   "execution_count": 7,
   "metadata": {},
   "outputs": [
    {
     "name": "stdout",
     "output_type": "stream",
     "text": [
      "Image Data Shape (1797, 64)\n",
      "Label Data Shape (1797,)\n"
     ]
    }
   ],
   "source": [
    "from sklearn.datasets import load_digits\n",
    "# Loading the Digits dataset\n",
    "digits = load_digits()\n",
    "\n",
    "# Print to show the input dimension\n",
    "print(f\"Image Data Shape {digits.data.shape}\")\n",
    "\n",
    "# Print to show the number of labels\n",
    "print(f\"Label Data Shape {digits.target.shape}\")"
   ]
  },
  {
   "cell_type": "markdown",
   "metadata": {},
   "source": [
    "## Showing the Images and the Labels (Digits Dataset)\n"
   ]
  },
  {
   "cell_type": "code",
   "execution_count": 8,
   "metadata": {},
   "outputs": [
    {
     "data": {
      "image/png": "[encoded data removed]",
      "text/plain": [
       "<Figure size 1440x288 with 5 Axes>"
      ]
     },
     "metadata": {
      "needs_background": "light"
     },
     "output_type": "display_data"
    }
   ],
   "source": [
    "import numpy as np \n",
    "import matplotlib.pyplot as plt\n",
    "\n",
    "plt.figure(figsize=(20,4))\n",
    "for index, (image, label) in enumerate(zip(digits.data[0:5], digits.target[0:5])):\n",
    "    plt.subplot(1, 5, index + 1)\n",
    "    plt.imshow(np.reshape(image, (8,8)), cmap=plt.cm.gray)\n",
    "    plt.title('Training label is %i\\n' % label, fontsize = 20)"
   ]
  },
  {
   "cell_type": "markdown",
   "metadata": {},
   "source": [
    "## Splitting Data into Training and Test Sets "
   ]
  },
  {
   "cell_type": "code",
   "execution_count": 9,
   "metadata": {},
   "outputs": [
    {
     "name": "stdout",
     "output_type": "stream",
     "text": [
      "Train size: 1347\n",
      "Test size: 450\n"
     ]
    }
   ],
   "source": [
    "from sklearn.model_selection import train_test_split\n",
    "from sklearn.datasets import load_digits\n",
    "\n",
    "# Loading the Digits dataset\n",
    "digits = load_digits()\n",
    "\n",
    "X_train, X_test, y_train, y_test = train_test_split(digits.data, digits.target, test_size=0.25, random_state=0)\n",
    "print(\"Train size:\", X_train.shape[0])\n",
    "print(\"Test size:\", X_test.shape[0])"
   ]
  },
  {
   "cell_type": "code",
   "execution_count": 10,
   "metadata": {},
   "outputs": [
    {
     "data": {
      "text/plain": [
       "(1797, 64)"
      ]
     },
     "execution_count": 10,
     "metadata": {},
     "output_type": "execute_result"
    }
   ],
   "source": [
    "digits.data.shape"
   ]
  },
  {
   "cell_type": "markdown",
   "metadata": {},
   "source": [
    "## Tracking experiments in a separate log dataframe"
   ]
  },
  {
   "cell_type": "code",
   "execution_count": 11,
   "metadata": {},
   "outputs": [],
   "source": [
    "experimentLog = pd.DataFrame(columns=[\"Model\", \"Dataset\", \"TrainAcc\", \"TestAcc\", \"TrainTime(sec)\", \"TestTime(sec)\", \"Param\", \"Description\",])\n"
   ]
  },
  {
   "cell_type": "markdown",
   "metadata": {},
   "source": [
    "### Implementing a KNN model on the Digits dataset and tuning parameters using gridsearch "
   ]
  },
  {
   "cell_type": "code",
   "execution_count": 12,
   "metadata": {},
   "outputs": [
    {
     "name": "stdout",
     "output_type": "stream",
     "text": [
      "# Tuning hyper-parameters for accuracy\n",
      "\n",
      "Fitting 5 folds for each of 15 candidates, totalling 75 fits\n"
     ]
    },
    {
     "name": "stderr",
     "output_type": "stream",
     "text": [
      "[Parallel(n_jobs=-1)]: Using backend LokyBackend with 8 concurrent workers.\n",
      "[Parallel(n_jobs=-1)]: Done  34 tasks      | elapsed:    3.2s\n"
     ]
    },
    {
     "name": "stdout",
     "output_type": "stream",
     "text": [
      "Best parameters set found on development set:\n",
      "\n",
      "{'n_neighbors': 1, 'p': 2}\n",
      "\n",
      "Grid scores on development set:\n",
      "\n",
      "accuracy  (+/-stdev*2)     hyper-params\n",
      "0.978 (+/-0.005) for {'n_neighbors': 1, 'p': 1}\n",
      "0.985 (+/-0.015) for {'n_neighbors': 1, 'p': 2}\n",
      "0.985 (+/-0.008) for {'n_neighbors': 1, 'p': 3}\n",
      "0.973 (+/-0.012) for {'n_neighbors': 2, 'p': 1}\n",
      "0.979 (+/-0.010) for {'n_neighbors': 2, 'p': 2}\n",
      "0.981 (+/-0.008) for {'n_neighbors': 2, 'p': 3}\n",
      "0.981 (+/-0.009) for {'n_neighbors': 3, 'p': 1}\n",
      "0.985 (+/-0.005) for {'n_neighbors': 3, 'p': 2}\n",
      "0.985 (+/-0.008) for {'n_neighbors': 3, 'p': 3}\n",
      "0.978 (+/-0.013) for {'n_neighbors': 4, 'p': 1}\n",
      "0.984 (+/-0.013) for {'n_neighbors': 4, 'p': 2}\n",
      "0.984 (+/-0.014) for {'n_neighbors': 4, 'p': 3}\n",
      "0.982 (+/-0.018) for {'n_neighbors': 5, 'p': 1}\n",
      "0.985 (+/-0.014) for {'n_neighbors': 5, 'p': 2}\n",
      "0.984 (+/-0.013) for {'n_neighbors': 5, 'p': 3}\n",
      "\n",
      "Detailed classification report:\n",
      "\n",
      "The model is trained on the full development set.\n",
      "The scores are computed on the full evaluation set.\n",
      "\n",
      "              precision    recall  f1-score   support\n",
      "\n",
      "           0       1.00      1.00      1.00        37\n",
      "           1       1.00      1.00      1.00        43\n",
      "           2       1.00      0.98      0.99        44\n",
      "           3       0.96      1.00      0.98        45\n",
      "           4       1.00      1.00      1.00        38\n",
      "           5       0.98      0.98      0.98        48\n",
      "           6       1.00      1.00      1.00        52\n",
      "           7       1.00      1.00      1.00        48\n",
      "           8       1.00      1.00      1.00        48\n",
      "           9       0.98      0.96      0.97        47\n",
      "\n",
      "    accuracy                           0.99       450\n",
      "   macro avg       0.99      0.99      0.99       450\n",
      "weighted avg       0.99      0.99      0.99       450\n",
      "\n",
      "\n",
      "Wall time: 4.94 s\n"
     ]
    },
    {
     "name": "stderr",
     "output_type": "stream",
     "text": [
      "[Parallel(n_jobs=-1)]: Done  75 out of  75 | elapsed:    4.7s finished\n"
     ]
    },
    {
     "data": {
      "text/html": [
       "<div>\n",
       "<style scoped>\n",
       "    .dataframe tbody tr th:only-of-type {\n",
       "        vertical-align: middle;\n",
       "    }\n",
       "\n",
       "    .dataframe tbody tr th {\n",
       "        vertical-align: top;\n",
       "    }\n",
       "\n",
       "    .dataframe thead th {\n",
       "        text-align: right;\n",
       "    }\n",
       "</style>\n",
       "<table border=\"1\" class=\"dataframe\">\n",
       "  <thead>\n",
       "    <tr style=\"text-align: right;\">\n",
       "      <th></th>\n",
       "      <th>Model</th>\n",
       "      <th>Dataset</th>\n",
       "      <th>TrainAcc</th>\n",
       "      <th>TestAcc</th>\n",
       "      <th>TrainTime(sec)</th>\n",
       "      <th>TestTime(sec)</th>\n",
       "      <th>Param</th>\n",
       "      <th>Description</th>\n",
       "    </tr>\n",
       "  </thead>\n",
       "  <tbody>\n",
       "    <tr>\n",
       "      <td>0</td>\n",
       "      <td>knn</td>\n",
       "      <td>Digits</td>\n",
       "      <td>98.52%</td>\n",
       "      <td>99.11%</td>\n",
       "      <td>4.82 secs</td>\n",
       "      <td>0.12 secs</td>\n",
       "      <td>{'n_neighbors': 1, 'p': 2}</td>\n",
       "      <td>5-foldCV-based gridSearch BEST model</td>\n",
       "    </tr>\n",
       "  </tbody>\n",
       "</table>\n",
       "</div>"
      ],
      "text/plain": [
       "  Model Dataset   TrainAcc    TestAcc TrainTime(sec)  TestTime(sec)  \\\n",
       "0   knn  Digits     98.52%     99.11%      4.82 secs      0.12 secs   \n",
       "\n",
       "                        Param                           Description  \n",
       "0  {'n_neighbors': 1, 'p': 2}  5-foldCV-based gridSearch BEST model  "
      ]
     },
     "execution_count": 12,
     "metadata": {},
     "output_type": "execute_result"
    }
   ],
   "source": [
    "%%time\n",
    "from __future__ import print_function\n",
    "\n",
    "from sklearn import datasets\n",
    "import numpy as np\n",
    "import pandas as pd\n",
    "from sklearn.neighbors import KNeighborsClassifier\n",
    "from sklearn.model_selection import train_test_split, GridSearchCV, PredefinedSplit\n",
    "from sklearn.metrics import accuracy_score\n",
    "from sklearn.metrics import classification_report\n",
    "from datetime import datetime\n",
    "\n",
    "import matplotlib\n",
    "%matplotlib inline\n",
    "import matplotlib.pyplot as plt\n",
    "import seaborn as sns\n",
    "\n",
    "#Set style for plotting\n",
    "sns.set(style=\"whitegrid\", font_scale=1.3)\n",
    "matplotlib.rcParams[\"legend.framealpha\"] = 1\n",
    "matplotlib.rcParams[\"legend.frameon\"] = True\n",
    "\n",
    "knn_sk = KNeighborsClassifier(n_jobs=-1)\n",
    "\n",
    "n_neighbors_range = list(range(1,6))\n",
    "p_range = list (range(1,4))\n",
    "parameters = {'n_neighbors': n_neighbors_range, 'p': p_range}\n",
    "\n",
    "np.random.seed(42) # for multiple runs of the same model training, you should re-execute this line\n",
    "scores = ['accuracy']  # limited to accuracuy for now but could use other metrics such as precision, recall, etc.\n",
    "start_time = datetime.now()   \n",
    "\n",
    "for score in scores:\n",
    "    print(\"# Tuning hyper-parameters for %s\" % score)\n",
    "    print()\n",
    "\n",
    "    gridSearch = GridSearchCV(estimator=knn_sk, \n",
    "                          param_grid=parameters,  \n",
    "                          cv=5, \n",
    "                          #refit=False,  \n",
    "                          return_train_score=False,\n",
    "                          verbose=1,\n",
    "                          n_jobs=-1  #use multiple CPUs; divide and conquer!\n",
    "                          )\n",
    "    gridSearch.fit(X_train, y_train)\n",
    "    print(\"Best parameters set found on development set:\")\n",
    "    print()\n",
    "    print(gridSearch.best_params_)\n",
    "    print()\n",
    "    print(\"Grid scores on development set:\")\n",
    "    print()\n",
    "    print(f'{score}  (+/-stdev*2)     hyper-params')\n",
    "\n",
    "    means = gridSearch.cv_results_['mean_test_score']  #access elements of the grid search results dictionary\n",
    "    stds = gridSearch.cv_results_['std_test_score']\n",
    "    for mean, std, params in zip(means, stds, gridSearch.cv_results_['params']):\n",
    "        print(\"%0.3f (+/-%0.03f) for %r\"\n",
    "              % (mean, std * 2, params))\n",
    "    print()\n",
    "    end_time = datetime.now()\n",
    "    wallTimeInSecondsTrain = (end_time - start_time).total_seconds()\n",
    "\n",
    "    print(\"Detailed classification report:\")\n",
    "    print()\n",
    "    print(\"The model is trained on the full development set.\")\n",
    "    print(\"The scores are computed on the full evaluation set.\")\n",
    "    print()\n",
    "    start_time = datetime.now()   \n",
    "    y_true, y_pred = y_test, gridSearch.predict(X_test)\n",
    "    end_time = datetime.now()\n",
    "    wallTimeInSecondsTest = (end_time - start_time).total_seconds()\n",
    "    print(classification_report(y_true, y_pred))  # more detailed breakdown of the test perf; optional for now\n",
    "    print()\n",
    "    trainAcc = gridSearch.best_score_ #CV accuracy score for best hyperparameter combo\n",
    "    \n",
    "    testAcc  = accuracy_score(y_true, y_pred)\n",
    "    experimentLog.loc[len(experimentLog)] =[\"knn\", \"Digits\", f\"{trainAcc*100:8.2f}%\", f\"{testAcc*100:8.2f}%\", \n",
    "                                    f\"{wallTimeInSecondsTrain:8.2f} secs\", f\"{wallTimeInSecondsTest:8.2f} secs\",\n",
    "                                    f\"{gridSearch.best_params_}\",\"5-foldCV-based gridSearch BEST model\"]\n",
    "experimentLog"
   ]
  },
  {
   "cell_type": "code",
   "execution_count": 13,
   "metadata": {},
   "outputs": [
    {
     "data": {
      "text/html": [
       "<div>\n",
       "<style scoped>\n",
       "    .dataframe tbody tr th:only-of-type {\n",
       "        vertical-align: middle;\n",
       "    }\n",
       "\n",
       "    .dataframe tbody tr th {\n",
       "        vertical-align: top;\n",
       "    }\n",
       "\n",
       "    .dataframe thead th {\n",
       "        text-align: right;\n",
       "    }\n",
       "</style>\n",
       "<table border=\"1\" class=\"dataframe\">\n",
       "  <thead>\n",
       "    <tr style=\"text-align: right;\">\n",
       "      <th></th>\n",
       "      <th>Model</th>\n",
       "      <th>Dataset</th>\n",
       "      <th>TrainAcc</th>\n",
       "      <th>TestAcc</th>\n",
       "      <th>TrainTime(sec)</th>\n",
       "      <th>TestTime(sec)</th>\n",
       "      <th>Param</th>\n",
       "      <th>Description</th>\n",
       "    </tr>\n",
       "  </thead>\n",
       "  <tbody>\n",
       "    <tr>\n",
       "      <td>0</td>\n",
       "      <td>knn</td>\n",
       "      <td>Digits</td>\n",
       "      <td>98.52%</td>\n",
       "      <td>99.11%</td>\n",
       "      <td>4.82 secs</td>\n",
       "      <td>0.12 secs</td>\n",
       "      <td>{'n_neighbors': 1, 'p': 2}</td>\n",
       "      <td>5-foldCV-based gridSearch BEST model</td>\n",
       "    </tr>\n",
       "  </tbody>\n",
       "</table>\n",
       "</div>"
      ],
      "text/plain": [
       "  Model Dataset   TrainAcc    TestAcc TrainTime(sec)  TestTime(sec)  \\\n",
       "0   knn  Digits     98.52%     99.11%      4.82 secs      0.12 secs   \n",
       "\n",
       "                        Param                           Description  \n",
       "0  {'n_neighbors': 1, 'p': 2}  5-foldCV-based gridSearch BEST model  "
      ]
     },
     "execution_count": 13,
     "metadata": {},
     "output_type": "execute_result"
    }
   ],
   "source": [
    "experimentLog"
   ]
  },
  {
   "cell_type": "code",
   "execution_count": 14,
   "metadata": {},
   "outputs": [
    {
     "name": "stdout",
     "output_type": "stream",
     "text": [
      "  Model Dataset   TrainAcc    TestAcc TrainTime(sec)  TestTime(sec)  \\\n",
      "0   knn  Digits     98.52%     99.11%      4.82 secs      0.12 secs   \n",
      "\n",
      "                        Param                           Description  \n",
      "0  {'n_neighbors': 1, 'p': 2}  5-foldCV-based gridSearch BEST model  \n"
     ]
    }
   ],
   "source": [
    "print(experimentLog)"
   ]
  },
  {
   "cell_type": "markdown",
   "metadata": {},
   "source": [
    "### Printing the best parameters found from hyperparameter tuning"
   ]
  },
  {
   "cell_type": "code",
   "execution_count": 15,
   "metadata": {},
   "outputs": [
    {
     "name": "stdout",
     "output_type": "stream",
     "text": [
      "best_p:  2\n",
      "best_n:  1\n"
     ]
    }
   ],
   "source": [
    "best_p = gridSearch.best_params_[\"p\"]\n",
    "best_n = gridSearch.best_params_[\"n_neighbors\"]\n",
    "print(\"best_p: \",best_p)\n",
    "print(\"best_n: \",best_n)"
   ]
  },
  {
   "cell_type": "markdown",
   "metadata": {},
   "source": [
    "## Analysis"
   ]
  },
  {
   "cell_type": "markdown",
   "metadata": {},
   "source": [
    "1.We explored a grid of 3x5 (15 experiments) and carried cross fold validation with 5 folds.\n",
    "\n",
    "2.Based on these accuracy scores the best hyperparamters are ` 'n_neighbors': 1, 'p': 2` with an accuracy of **0.985** (`98.52%` accuracy). \n",
    "\n",
    "3.This accuracy is very similar to than other hyperparamter combinations. However, one could dispute that 98.52 is not that different to 98.5. In practice, we might choose the simpler model (so happens to be 1-neighbors solution here) as it is cheaper to compute even it was not the best performer. "
   ]
  },
  {
   "cell_type": "markdown",
   "metadata": {},
   "source": [
    "## Visualize the performance metrics along each hyperparameter\n"
   ]
  },
  {
   "cell_type": "code",
   "execution_count": 17,
   "metadata": {},
   "outputs": [
    {
     "data": {
      "image/png": "[encoded data removed]",
      "text/plain": [
       "<Figure size 576x360 with 2 Axes>"
      ]
     },
     "metadata": {},
     "output_type": "display_data"
    }
   ],
   "source": [
    "plt.figure(figsize=(8, 5))\n",
    "sc = plt.scatter(gridSearch.cv_results_[\"param_n_neighbors\"], \n",
    "                 gridSearch.cv_results_[\"param_p\"], \n",
    "                 c=gridSearch.cv_results_[\"mean_test_score\"], \n",
    "                 cmap = plt.get_cmap(\"RdYlBu_r\"), \n",
    "                 s=1500)\n",
    "plt.colorbar(sc)\n",
    "plt.grid(True)\n",
    "plt.gca().set_axisbelow(True)\n",
    "plt.xlabel(\"Number of neighbors\")\n",
    "plt.ylabel(\"p\")\n",
    "plt.title(\"5-fold cross validation accuracy\\n for different combinations of p and Neighbours\")\n",
    "plt.xlim([0, 6])\n",
    "plt.ylim([0.5, 3.5]);"
   ]
  },
  {
   "cell_type": "code",
   "execution_count": 18,
   "metadata": {},
   "outputs": [],
   "source": [
    "p_idx = gridSearch.cv_results_[\"param_p\"].data == best_p"
   ]
  },
  {
   "cell_type": "code",
   "execution_count": 19,
   "metadata": {},
   "outputs": [
    {
     "data": {
      "image/png": "[encoded data removed]",
      "text/plain": [
       "<Figure size 576x432 with 1 Axes>"
      ]
     },
     "metadata": {},
     "output_type": "display_data"
    }
   ],
   "source": [
    "plt.figure(figsize=(8,6))\n",
    "plt.plot(gridSearch.cv_results_[\"param_n_neighbors\"].data[p_idx], \n",
    "         gridSearch.cv_results_[\"mean_test_score\"][p_idx], \n",
    "         \"o-\")\n",
    "plt.plot([best_n], [gridSearch.cv_results_[\"mean_test_score\"][p_idx][best_n - 1]], \"or\", markersize=15, label=\"Best\")\n",
    "plt.xlabel(\"Number of neighbors\")\n",
    "plt.ylabel(\"Accuracy\")\n",
    "plt.title(\"\")\n",
    "plt.grid(True)\n",
    "plt.legend(numpoints=1)\n",
    "plt.show()"
   ]
  },
  {
   "cell_type": "markdown",
   "metadata": {},
   "source": [
    "## Results"
   ]
  },
  {
   "cell_type": "code",
   "execution_count": 20,
   "metadata": {},
   "outputs": [
    {
     "data": {
      "text/html": [
       "<div>\n",
       "<style scoped>\n",
       "    .dataframe tbody tr th:only-of-type {\n",
       "        vertical-align: middle;\n",
       "    }\n",
       "\n",
       "    .dataframe tbody tr th {\n",
       "        vertical-align: top;\n",
       "    }\n",
       "\n",
       "    .dataframe thead th {\n",
       "        text-align: right;\n",
       "    }\n",
       "</style>\n",
       "<table border=\"1\" class=\"dataframe\">\n",
       "  <thead>\n",
       "    <tr style=\"text-align: right;\">\n",
       "      <th></th>\n",
       "      <th>Model</th>\n",
       "      <th>Dataset</th>\n",
       "      <th>TrainAcc</th>\n",
       "      <th>TestAcc</th>\n",
       "      <th>TrainTime(sec)</th>\n",
       "      <th>TestTime(sec)</th>\n",
       "      <th>Param</th>\n",
       "      <th>Description</th>\n",
       "    </tr>\n",
       "  </thead>\n",
       "  <tbody>\n",
       "    <tr>\n",
       "      <td>0</td>\n",
       "      <td>knn</td>\n",
       "      <td>Digits</td>\n",
       "      <td>98.52%</td>\n",
       "      <td>99.11%</td>\n",
       "      <td>4.82 secs</td>\n",
       "      <td>0.12 secs</td>\n",
       "      <td>{'n_neighbors': 1, 'p': 2}</td>\n",
       "      <td>5-foldCV-based gridSearch BEST model</td>\n",
       "    </tr>\n",
       "  </tbody>\n",
       "</table>\n",
       "</div>"
      ],
      "text/plain": [
       "  Model Dataset   TrainAcc    TestAcc TrainTime(sec)  TestTime(sec)  \\\n",
       "0   knn  Digits     98.52%     99.11%      4.82 secs      0.12 secs   \n",
       "\n",
       "                        Param                           Description  \n",
       "0  {'n_neighbors': 1, 'p': 2}  5-foldCV-based gridSearch BEST model  "
      ]
     },
     "execution_count": 20,
     "metadata": {},
     "output_type": "execute_result"
    }
   ],
   "source": [
    "experimentLog"
   ]
  },
  {
   "cell_type": "code",
   "execution_count": null,
   "metadata": {},
   "outputs": [],
   "source": []
  }
 ],
 "metadata": {
  "kernelspec": {
   "display_name": "Python 3",
   "language": "python",
   "name": "python3"
  },
  "language_info": {
   "codemirror_mode": {
    "name": "ipython",
    "version": 3
   },
   "file_extension": ".py",
   "mimetype": "text/x-python",
   "name": "python",
   "nbconvert_exporter": "python",
   "pygments_lexer": "ipython3",
   "version": "3.7.4"
  }
 },
 "nbformat": 4,
 "nbformat_minor": 2
}
