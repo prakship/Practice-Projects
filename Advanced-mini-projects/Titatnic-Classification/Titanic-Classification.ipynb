{
 "cells": [
  {
   "cell_type": "markdown",
   "metadata": {},
   "source": [
    "# Import libraries"
   ]
  },
  {
   "cell_type": "code",
   "execution_count": 1,
   "metadata": {
    "ExecuteTime": {
     "end_time": "2018-11-09T00:16:15.867443Z",
     "start_time": "2018-11-09T00:16:11.144352Z"
    }
   },
   "outputs": [],
   "source": [
    "import warnings\n",
    "warnings.simplefilter('ignore')\n",
    "\n",
    "import numpy as np\n",
    "import pandas as pd\n",
    "import seaborn as sns\n",
    "import matplotlib.pyplot as plt\n",
    "%matplotlib inline\n",
    "\n",
    "import re\n",
    "from time import time\n",
    "from scipy import stats\n",
    "import json\n",
    "\n",
    "from sklearn.base import BaseEstimator, TransformerMixin\n",
    "from sklearn.model_selection import train_test_split\n",
    "from sklearn.pipeline import Pipeline\n",
    "from sklearn.impute import SimpleImputer\n",
    "from sklearn.preprocessing import StandardScaler\n",
    "from sklearn.preprocessing import OneHotEncoder\n",
    "\n",
    "from sklearn.model_selection import ShuffleSplit\n",
    "from sklearn.model_selection import cross_val_score\n",
    "from sklearn.model_selection import GridSearchCV\n",
    "\n",
    "from sklearn.linear_model import LogisticRegression\n",
    "from sklearn.neighbors import KNeighborsClassifier\n",
    "from sklearn.naive_bayes import GaussianNB\n",
    "from sklearn.svm import SVC\n",
    "from sklearn.linear_model import SGDClassifier\n",
    "from sklearn.ensemble import RandomForestClassifier"
   ]
  },
  {
   "cell_type": "code",
   "execution_count": 3,
   "metadata": {
    "ExecuteTime": {
     "end_time": "2018-11-09T00:16:15.879776Z",
     "start_time": "2018-11-09T00:16:15.875989Z"
    }
   },
   "outputs": [],
   "source": [
    "# Create a class to select numerical or categorical columns\n",
    "https://www.eventbrite.com/e/virtual-ai-expo-odsc-east-2020-tickets-87295672707\n",
    "class DataFrameSelector(BaseEstimator, TransformerMixin):\n",
    "    def __init__(self, attribute_names):\n",
    "        self.attribute_names = attribute_names\n",
    "    def fit(self, X, y=None):\n",
    "        return self\n",
    "    def transform(self, X):\n",
    "        return X[self.attribute_names].values"
   ]
  },
  {
   "cell_type": "code",
   "execution_count": 4,
   "metadata": {
    "ExecuteTime": {
     "end_time": "2018-11-09T00:16:15.948484Z",
     "start_time": "2018-11-09T00:16:15.889730Z"
    }
   },
   "outputs": [],
   "source": [
    "# Metric imports\n",
    "from sklearn.model_selection import cross_val_score, ShuffleSplit\n",
    "from scipy import stats\n",
    "                       \n",
    "# Convert a number to a percent.    \n",
    "def pct(x):\n",
    "    return round(100*x,1)\n",
    "\n",
    "# result logs\n",
    "import pandas as pd\n",
    "results = pd.DataFrame(columns=[\"ExpID\", \"Cross fold train accuracy\", \"Test Accuracy\", \"p-value\", \"Train Time(s)\", \"Test Time(s)\", \"Experiment description\"])\n",
    "\n",
    "# Set up ShuffleSplit for p_value testing\n",
    "cv = ShuffleSplit(n_splits=30, test_size=0.3, random_state=0)"
   ]
  },
  {
   "cell_type": "code",
   "execution_count": 5,
   "metadata": {
    "ExecuteTime": {
     "end_time": "2018-11-09T00:16:15.964536Z",
     "start_time": "2018-11-09T00:16:15.960033Z"
    }
   },
   "outputs": [],
   "source": [
    "# p-value metrics function\n",
    "\n",
    "def ttest(control, treatment):\n",
    "    #paired t-test; two-tailed p-value      A   ,    B\n",
    "    (t_score, p_value) = stats.ttest_rel(control, treatment)\n",
    "\n",
    "    if p_value > 0.05/2:  #Two sided \n",
    "        print('There is no significant difference between the two machine learning pipelines (Accept H0)')\n",
    "    else:\n",
    "        print('The two machine learning pipelines are different (reject H0) \\n(t_score, p_value) = (%.2f, %.5f)'%(t_score, p_value) )\n",
    "        if t_score > 0.0: #in the case of regression lower RMSE is better; A is lower \n",
    "            print('Machine learning pipeline A is better than B')\n",
    "        else:\n",
    "            print('Machine learning pipeline B is better than A')\n",
    "    return p_value"
   ]
  },
  {
   "cell_type": "markdown",
   "metadata": {},
   "source": [
    "# Data import and EDA"
   ]
  },
  {
   "cell_type": "code",
   "execution_count": 6,
   "metadata": {
    "ExecuteTime": {
     "end_time": "2018-11-09T00:16:15.988448Z",
     "start_time": "2018-11-09T00:16:15.973642Z"
    }
   },
   "outputs": [],
   "source": [
    "data = pd.read_csv('datasets/titanic/train.csv')\n",
    "y = data['Survived']\n",
    "x = data.drop(['Survived', 'Ticket', 'Cabin'], axis = 1)"
   ]
  },
  {
   "cell_type": "code",
   "execution_count": 7,
   "metadata": {
    "ExecuteTime": {
     "end_time": "2018-11-09T00:16:16.039694Z",
     "start_time": "2018-11-09T00:16:16.025594Z"
    }
   },
   "outputs": [
    {
     "data": {
      "text/html": [
       "<div>\n",
       "<style scoped>\n",
       "    .dataframe tbody tr th:only-of-type {\n",
       "        vertical-align: middle;\n",
       "    }\n",
       "\n",
       "    .dataframe tbody tr th {\n",
       "        vertical-align: top;\n",
       "    }\n",
       "\n",
       "    .dataframe thead th {\n",
       "        text-align: right;\n",
       "    }\n",
       "</style>\n",
       "<table border=\"1\" class=\"dataframe\">\n",
       "  <thead>\n",
       "    <tr style=\"text-align: right;\">\n",
       "      <th></th>\n",
       "      <th>PassengerId</th>\n",
       "      <th>Survived</th>\n",
       "      <th>Pclass</th>\n",
       "      <th>Name</th>\n",
       "      <th>Sex</th>\n",
       "      <th>Age</th>\n",
       "      <th>SibSp</th>\n",
       "      <th>Parch</th>\n",
       "      <th>Ticket</th>\n",
       "      <th>Fare</th>\n",
       "      <th>Cabin</th>\n",
       "      <th>Embarked</th>\n",
       "    </tr>\n",
       "  </thead>\n",
       "  <tbody>\n",
       "    <tr>\n",
       "      <td>0</td>\n",
       "      <td>1</td>\n",
       "      <td>0</td>\n",
       "      <td>3</td>\n",
       "      <td>Braund, Mr. Owen Harris</td>\n",
       "      <td>male</td>\n",
       "      <td>22.0</td>\n",
       "      <td>1</td>\n",
       "      <td>0</td>\n",
       "      <td>A/5 21171</td>\n",
       "      <td>7.2500</td>\n",
       "      <td>NaN</td>\n",
       "      <td>S</td>\n",
       "    </tr>\n",
       "    <tr>\n",
       "      <td>1</td>\n",
       "      <td>2</td>\n",
       "      <td>1</td>\n",
       "      <td>1</td>\n",
       "      <td>Cumings, Mrs. John Bradley (Florence Briggs Th...</td>\n",
       "      <td>female</td>\n",
       "      <td>38.0</td>\n",
       "      <td>1</td>\n",
       "      <td>0</td>\n",
       "      <td>PC 17599</td>\n",
       "      <td>71.2833</td>\n",
       "      <td>C85</td>\n",
       "      <td>C</td>\n",
       "    </tr>\n",
       "    <tr>\n",
       "      <td>2</td>\n",
       "      <td>3</td>\n",
       "      <td>1</td>\n",
       "      <td>3</td>\n",
       "      <td>Heikkinen, Miss. Laina</td>\n",
       "      <td>female</td>\n",
       "      <td>26.0</td>\n",
       "      <td>0</td>\n",
       "      <td>0</td>\n",
       "      <td>STON/O2. 3101282</td>\n",
       "      <td>7.9250</td>\n",
       "      <td>NaN</td>\n",
       "      <td>S</td>\n",
       "    </tr>\n",
       "    <tr>\n",
       "      <td>3</td>\n",
       "      <td>4</td>\n",
       "      <td>1</td>\n",
       "      <td>1</td>\n",
       "      <td>Futrelle, Mrs. Jacques Heath (Lily May Peel)</td>\n",
       "      <td>female</td>\n",
       "      <td>35.0</td>\n",
       "      <td>1</td>\n",
       "      <td>0</td>\n",
       "      <td>113803</td>\n",
       "      <td>53.1000</td>\n",
       "      <td>C123</td>\n",
       "      <td>S</td>\n",
       "    </tr>\n",
       "    <tr>\n",
       "      <td>4</td>\n",
       "      <td>5</td>\n",
       "      <td>0</td>\n",
       "      <td>3</td>\n",
       "      <td>Allen, Mr. William Henry</td>\n",
       "      <td>male</td>\n",
       "      <td>35.0</td>\n",
       "      <td>0</td>\n",
       "      <td>0</td>\n",
       "      <td>373450</td>\n",
       "      <td>8.0500</td>\n",
       "      <td>NaN</td>\n",
       "      <td>S</td>\n",
       "    </tr>\n",
       "  </tbody>\n",
       "</table>\n",
       "</div>"
      ],
      "text/plain": [
       "   PassengerId  Survived  Pclass  \\\n",
       "0            1         0       3   \n",
       "1            2         1       1   \n",
       "2            3         1       3   \n",
       "3            4         1       1   \n",
       "4            5         0       3   \n",
       "\n",
       "                                                Name     Sex   Age  SibSp  \\\n",
       "0                            Braund, Mr. Owen Harris    male  22.0      1   \n",
       "1  Cumings, Mrs. John Bradley (Florence Briggs Th...  female  38.0      1   \n",
       "2                             Heikkinen, Miss. Laina  female  26.0      0   \n",
       "3       Futrelle, Mrs. Jacques Heath (Lily May Peel)  female  35.0      1   \n",
       "4                           Allen, Mr. William Henry    male  35.0      0   \n",
       "\n",
       "   Parch            Ticket     Fare Cabin Embarked  \n",
       "0      0         A/5 21171   7.2500   NaN        S  \n",
       "1      0          PC 17599  71.2833   C85        C  \n",
       "2      0  STON/O2. 3101282   7.9250   NaN        S  \n",
       "3      0            113803  53.1000  C123        S  \n",
       "4      0            373450   8.0500   NaN        S  "
      ]
     },
     "execution_count": 7,
     "metadata": {},
     "output_type": "execute_result"
    }
   ],
   "source": [
    "data.head()"
   ]
  },
  {
   "cell_type": "code",
   "execution_count": 8,
   "metadata": {
    "ExecuteTime": {
     "end_time": "2018-11-09T00:16:16.090140Z",
     "start_time": "2018-11-09T00:16:16.080622Z"
    }
   },
   "outputs": [
    {
     "name": "stdout",
     "output_type": "stream",
     "text": [
      "<class 'pandas.core.frame.DataFrame'>\n",
      "RangeIndex: 891 entries, 0 to 890\n",
      "Data columns (total 12 columns):\n",
      "PassengerId    891 non-null int64\n",
      "Survived       891 non-null int64\n",
      "Pclass         891 non-null int64\n",
      "Name           891 non-null object\n",
      "Sex            891 non-null object\n",
      "Age            714 non-null float64\n",
      "SibSp          891 non-null int64\n",
      "Parch          891 non-null int64\n",
      "Ticket         891 non-null object\n",
      "Fare           891 non-null float64\n",
      "Cabin          204 non-null object\n",
      "Embarked       889 non-null object\n",
      "dtypes: float64(2), int64(5), object(5)\n",
      "memory usage: 83.7+ KB\n"
     ]
    }
   ],
   "source": [
    "data.info()"
   ]
  },
  {
   "cell_type": "code",
   "execution_count": 9,
   "metadata": {
    "ExecuteTime": {
     "end_time": "2018-11-09T00:16:16.165817Z",
     "start_time": "2018-11-09T00:16:16.127612Z"
    },
    "scrolled": true
   },
   "outputs": [
    {
     "data": {
      "text/html": [
       "<div>\n",
       "<style scoped>\n",
       "    .dataframe tbody tr th:only-of-type {\n",
       "        vertical-align: middle;\n",
       "    }\n",
       "\n",
       "    .dataframe tbody tr th {\n",
       "        vertical-align: top;\n",
       "    }\n",
       "\n",
       "    .dataframe thead th {\n",
       "        text-align: right;\n",
       "    }\n",
       "</style>\n",
       "<table border=\"1\" class=\"dataframe\">\n",
       "  <thead>\n",
       "    <tr style=\"text-align: right;\">\n",
       "      <th></th>\n",
       "      <th>PassengerId</th>\n",
       "      <th>Survived</th>\n",
       "      <th>Pclass</th>\n",
       "      <th>Age</th>\n",
       "      <th>SibSp</th>\n",
       "      <th>Parch</th>\n",
       "      <th>Fare</th>\n",
       "    </tr>\n",
       "  </thead>\n",
       "  <tbody>\n",
       "    <tr>\n",
       "      <td>count</td>\n",
       "      <td>891.000000</td>\n",
       "      <td>891.000000</td>\n",
       "      <td>891.000000</td>\n",
       "      <td>714.000000</td>\n",
       "      <td>891.000000</td>\n",
       "      <td>891.000000</td>\n",
       "      <td>891.000000</td>\n",
       "    </tr>\n",
       "    <tr>\n",
       "      <td>mean</td>\n",
       "      <td>446.000000</td>\n",
       "      <td>0.383838</td>\n",
       "      <td>2.308642</td>\n",
       "      <td>29.699118</td>\n",
       "      <td>0.523008</td>\n",
       "      <td>0.381594</td>\n",
       "      <td>32.204208</td>\n",
       "    </tr>\n",
       "    <tr>\n",
       "      <td>std</td>\n",
       "      <td>257.353842</td>\n",
       "      <td>0.486592</td>\n",
       "      <td>0.836071</td>\n",
       "      <td>14.526497</td>\n",
       "      <td>1.102743</td>\n",
       "      <td>0.806057</td>\n",
       "      <td>49.693429</td>\n",
       "    </tr>\n",
       "    <tr>\n",
       "      <td>min</td>\n",
       "      <td>1.000000</td>\n",
       "      <td>0.000000</td>\n",
       "      <td>1.000000</td>\n",
       "      <td>0.420000</td>\n",
       "      <td>0.000000</td>\n",
       "      <td>0.000000</td>\n",
       "      <td>0.000000</td>\n",
       "    </tr>\n",
       "    <tr>\n",
       "      <td>25%</td>\n",
       "      <td>223.500000</td>\n",
       "      <td>0.000000</td>\n",
       "      <td>2.000000</td>\n",
       "      <td>20.125000</td>\n",
       "      <td>0.000000</td>\n",
       "      <td>0.000000</td>\n",
       "      <td>7.910400</td>\n",
       "    </tr>\n",
       "    <tr>\n",
       "      <td>50%</td>\n",
       "      <td>446.000000</td>\n",
       "      <td>0.000000</td>\n",
       "      <td>3.000000</td>\n",
       "      <td>28.000000</td>\n",
       "      <td>0.000000</td>\n",
       "      <td>0.000000</td>\n",
       "      <td>14.454200</td>\n",
       "    </tr>\n",
       "    <tr>\n",
       "      <td>75%</td>\n",
       "      <td>668.500000</td>\n",
       "      <td>1.000000</td>\n",
       "      <td>3.000000</td>\n",
       "      <td>38.000000</td>\n",
       "      <td>1.000000</td>\n",
       "      <td>0.000000</td>\n",
       "      <td>31.000000</td>\n",
       "    </tr>\n",
       "    <tr>\n",
       "      <td>max</td>\n",
       "      <td>891.000000</td>\n",
       "      <td>1.000000</td>\n",
       "      <td>3.000000</td>\n",
       "      <td>80.000000</td>\n",
       "      <td>8.000000</td>\n",
       "      <td>6.000000</td>\n",
       "      <td>512.329200</td>\n",
       "    </tr>\n",
       "  </tbody>\n",
       "</table>\n",
       "</div>"
      ],
      "text/plain": [
       "       PassengerId    Survived      Pclass         Age       SibSp  \\\n",
       "count   891.000000  891.000000  891.000000  714.000000  891.000000   \n",
       "mean    446.000000    0.383838    2.308642   29.699118    0.523008   \n",
       "std     257.353842    0.486592    0.836071   14.526497    1.102743   \n",
       "min       1.000000    0.000000    1.000000    0.420000    0.000000   \n",
       "25%     223.500000    0.000000    2.000000   20.125000    0.000000   \n",
       "50%     446.000000    0.000000    3.000000   28.000000    0.000000   \n",
       "75%     668.500000    1.000000    3.000000   38.000000    1.000000   \n",
       "max     891.000000    1.000000    3.000000   80.000000    8.000000   \n",
       "\n",
       "            Parch        Fare  \n",
       "count  891.000000  891.000000  \n",
       "mean     0.381594   32.204208  \n",
       "std      0.806057   49.693429  \n",
       "min      0.000000    0.000000  \n",
       "25%      0.000000    7.910400  \n",
       "50%      0.000000   14.454200  \n",
       "75%      0.000000   31.000000  \n",
       "max      6.000000  512.329200  "
      ]
     },
     "execution_count": 9,
     "metadata": {},
     "output_type": "execute_result"
    }
   ],
   "source": [
    "data.describe()"
   ]
  },
  {
   "cell_type": "code",
   "execution_count": 10,
   "metadata": {
    "ExecuteTime": {
     "end_time": "2018-11-09T00:16:16.215163Z",
     "start_time": "2018-11-09T00:16:16.206634Z"
    }
   },
   "outputs": [
    {
     "data": {
      "text/plain": [
       "Survived       1.000000\n",
       "Fare           0.257307\n",
       "Parch          0.081629\n",
       "PassengerId   -0.005007\n",
       "SibSp         -0.035322\n",
       "Age           -0.077221\n",
       "Pclass        -0.338481\n",
       "Name: Survived, dtype: float64"
      ]
     },
     "execution_count": 10,
     "metadata": {},
     "output_type": "execute_result"
    }
   ],
   "source": [
    "# Show the correlation of the Survived column with the features\n",
    "\n",
    "corr_matrix = data.corr()\n",
    "corr_matrix[\"Survived\"].sort_values(ascending=False)"
   ]
  },
  {
   "cell_type": "code",
   "execution_count": 11,
   "metadata": {
    "ExecuteTime": {
     "end_time": "2018-11-09T00:16:23.094178Z",
     "start_time": "2018-11-09T00:16:21.619001Z"
    }
   },
   "outputs": [
    {
     "data": {
      "image/png": "[encoded data removed]",
      "text/plain": [
       "<Figure size 864x576 with 25 Axes>"
      ]
     },
     "metadata": {
      "needs_background": "light"
     },
     "output_type": "display_data"
    }
   ],
   "source": [
    "# Scatter matrix of Top four correlated inputs with survived\n",
    "\n",
    "from pandas.plotting import scatter_matrix\n",
    "\n",
    "attributes = [\"Survived\", \"Fare\", \"Pclass\", \"Parch\", \"Age\"]\n",
    "scatter_matrix(data[attributes], figsize=(12, 8));"
   ]
  },
  {
   "cell_type": "markdown",
   "metadata": {},
   "source": [
    "## Evaluate categorical features with respect to Survived"
   ]
  },
  {
   "cell_type": "code",
   "execution_count": 12,
   "metadata": {
    "ExecuteTime": {
     "end_time": "2018-11-09T00:16:23.602602Z",
     "start_time": "2018-11-09T00:16:23.137106Z"
    }
   },
   "outputs": [
    {
     "data": {
      "image/png": "[encoded data removed]",
      "text/plain": [
       "<Figure size 1080x288 with 3 Axes>"
      ]
     },
     "metadata": {
      "needs_background": "light"
     },
     "output_type": "display_data"
    }
   ],
   "source": [
    "cat_vars = ['Sex', 'Pclass', 'Embarked']\n",
    "plt.figure(figsize=(15,4))\n",
    "for idx, cat in enumerate(cat_vars):\n",
    "    plt.subplot(1, 3, idx+1)\n",
    "    sns.countplot(data[cat], hue=data['Survived'])"
   ]
  },
  {
   "cell_type": "code",
   "execution_count": 13,
   "metadata": {
    "ExecuteTime": {
     "end_time": "2018-11-09T00:16:25.301504Z",
     "start_time": "2018-11-09T00:16:25.290387Z"
    }
   },
   "outputs": [],
   "source": [
    "# split data set into test and train\n",
    "\n",
    "np.random.seed(42)\n",
    "x_train, x_test, y_train, y_test = train_test_split(x, y, test_size = 0.2, random_state = 42)               \n",
    " "
   ]
  },
  {
   "cell_type": "markdown",
   "metadata": {},
   "source": [
    "# Build processing pipelines\n",
    "In this part of the homework the focus is on constructing the pipeline. Since the data has both numerical and categorical features, it is required to create two pipelines (one for each category of data) because they require different transformations. After finishing that, the two pipelines should be unified to produce one full pipeline that performs transformation on all the dataset"
   ]
  },
  {
   "cell_type": "code",
   "execution_count": 22,
   "metadata": {
    "ExecuteTime": {
     "end_time": "2018-11-09T00:16:28.833450Z",
     "start_time": "2018-11-09T00:16:28.826296Z"
    }
   },
   "outputs": [],
   "source": [
    "from sklearn.pipeline import Pipeline, FeatureUnion\n",
    "from sklearn.preprocessing import StandardScaler\n",
    "from sklearn.impute import SimpleImputer\n",
    "\n",
    "# Identify the numeric features we wish to consider. \n",
    "num_attribs = [\n",
    "    'Age', \n",
    "    'Parch', \n",
    "    'SibSp',\n",
    "    'Fare'\n",
    "]\n",
    "# Create a pipeline for the numeric features.\n",
    "\n",
    "num_pipeline = Pipeline([\n",
    "        ('selector', DataFrameSelector(num_attribs)),\n",
    "        ('imputer', SimpleImputer(strategy=\"median\")),\n",
    "        ('std_scaler', StandardScaler()),\n",
    "    ])              \n",
    "\n",
    "# Identify the categorical features to consider.\n",
    "cat_attribs = [\n",
    "    \"Embarked\", \n",
    "    \"Sex\",\n",
    "    \"Pclass\"\n",
    "]\n",
    "# Identiy the range of expected values for categorical features.\n",
    "cat_values = [\n",
    "    ['S','C','Q'],     \n",
    "    ['female','male'],\n",
    "    [1,2,3] \n",
    "]\n",
    "\n",
    "# Create a pipelne for the categorical features.\n",
    "# one hot encoding used\n",
    "cat_pipeline = Pipeline([\n",
    "        ('selector', DataFrameSelector(cat_attribs)),\n",
    "        ('imputer', SimpleImputer(strategy='most_frequent')),\n",
    "        ('ohe', OneHotEncoder(sparse=False, handle_unknown=\"ignore\"))\n",
    "    ])\n",
    "\n",
    "# Joining the scaled numeric and categorical features.\n",
    "\n",
    "full_pipeline = FeatureUnion(transformer_list=[\n",
    "        (\"num_pipeline\", num_pipeline),\n",
    "        (\"cat_pipeline\", cat_pipeline),\n",
    "    ])                 \n"
   ]
  },
  {
   "cell_type": "markdown",
   "metadata": {},
   "source": [
    "## New feature based on the title from each passengers name"
   ]
  },
  {
   "cell_type": "markdown",
   "metadata": {},
   "source": [
    "### Evaluate the distribution of titles"
   ]
  },
  {
   "cell_type": "code",
   "execution_count": 18,
   "metadata": {
    "ExecuteTime": {
     "end_time": "2018-11-09T00:16:44.678632Z",
     "start_time": "2018-11-09T00:16:44.455797Z"
    }
   },
   "outputs": [
    {
     "data": {
      "image/png": "[encoded data removed]",
      "text/plain": [
       "<Figure size 432x288 with 1 Axes>"
      ]
     },
     "metadata": {
      "needs_background": "light"
     },
     "output_type": "display_data"
    }
   ],
   "source": [
    "data['Title'] = data['Name'].apply(lambda x: re.search(' ([A-Z][a-z]+)\\.', x).group(1))\n",
    "sns.countplot(x='Title', data=data)\n",
    "plt.title('Distribution of Titles Amongst Passengers')\n",
    "plt.xticks(rotation=90);"
   ]
  },
  {
   "cell_type": "markdown",
   "metadata": {},
   "source": [
    "### Consolidate special and miscellaneous titles\n",
    "Most titles fall into one of four categories (Mr, Mrs., Miss, Master).  All other titles can be combined with one of these groups (i.e., they are French varients) or grouped as \"other\". "
   ]
  },
  {
   "cell_type": "code",
   "execution_count": 19,
   "metadata": {
    "ExecuteTime": {
     "end_time": "2018-11-09T00:16:59.610825Z",
     "start_time": "2018-11-09T00:16:59.410019Z"
    }
   },
   "outputs": [
    {
     "data": {
      "image/png": "[encoded data removed]",
      "text/plain": [
       "<Figure size 432x288 with 1 Axes>"
      ]
     },
     "metadata": {
      "needs_background": "light"
     },
     "output_type": "display_data"
    }
   ],
   "source": [
    "data['Title'] = data['Title'].replace({'Mlle':'Miss', 'Mme':'Mrs', 'Ms':'Miss'})\n",
    "data['Title'] = data['Title'].replace(['Don', 'Dona', 'Rev', 'Dr','Major', 'Lady', 'Sir', \n",
    "                                       'Col', 'Capt', 'Countess', 'Jonkheer'],'Other')\n",
    "sns.countplot(x='Title', data=data);\n",
    "plt.title('Distribution of Titles After Consolidation');"
   ]
  },
  {
   "cell_type": "markdown",
   "metadata": {},
   "source": [
    "## Create a transformer to perfom this new feature transformation in a pipeline"
   ]
  },
  {
   "cell_type": "code",
   "execution_count": 20,
   "metadata": {
    "ExecuteTime": {
     "end_time": "2018-11-09T00:17:07.917449Z",
     "start_time": "2018-11-09T00:17:07.910630Z"
    }
   },
   "outputs": [],
   "source": [
    "class TitleAdder(BaseEstimator, TransformerMixin):\n",
    "    def __init__(self, features=None): # no *args or **kargs\n",
    "        self.features = features\n",
    "    def fit(self, X, y=None):\n",
    "        return self  # nothing else to do\n",
    "    def transform(self, X):\n",
    "        df = pd.DataFrame(X, columns=self.features)\n",
    "        df['Title'] = df['Name'].apply(lambda x: re.search(' ([A-Z][a-z]+)\\.', x).group(1))\n",
    "        # Apply the necessary transformations to obtain the 5 title categories\n",
    "        # (Mr, Mrs, Miss, Master, Other) like it was done in section 5.1.2\n",
    "        #==================================================#\n",
    "        #               Your code starts here              #\n",
    "        #==================================================#\n",
    "        df['Title'] = df['Title'].replace({'Mlle':'Miss', 'Mme':'Mrs', 'Ms':'Miss'})\n",
    "        df['Title'] = df['Title'].replace(['Don', 'Dona', 'Rev', 'Dr','Major', 'Lady', 'Sir', \n",
    "                                       'Col', 'Capt', 'Countess', 'Jonkheer'],'Other')                \n",
    "        #==================================================#\n",
    "        #               Your code ends here                #\n",
    "        #               Please don't add code below here   #\n",
    "        #==================================================#\n",
    "        df.drop('Name', axis=1, inplace=True)\n",
    "        return np.array(df.values)"
   ]
  },
  {
   "cell_type": "markdown",
   "metadata": {},
   "source": [
    "# Modeling\n",
    "\n",
    "## Baseline Logistic Regression"
   ]
  },
  {
   "cell_type": "code",
   "execution_count": 23,
   "metadata": {
    "ExecuteTime": {
     "end_time": "2018-11-09T00:17:09.641330Z",
     "start_time": "2018-11-09T00:17:09.635485Z"
    }
   },
   "outputs": [],
   "source": [
    "# use full pipeline above to build full pipeline with predictor\n",
    "np.random.seed(42)\n",
    "full_pipeline_with_predictor = Pipeline([\n",
    "        (\"preparation\", full_pipeline),\n",
    "        (\"linear\", LogisticRegression())\n",
    "    ])\n",
    "\n",
    "# split data with 20% test data \n",
    "x_train, x_test, y_train, y_test = train_test_split(x, y, test_size=.2, shuffle=True, random_state=42)"
   ]
  },
  {
   "cell_type": "code",
   "execution_count": 24,
   "metadata": {
    "ExecuteTime": {
     "end_time": "2018-11-09T00:17:12.319694Z",
     "start_time": "2018-11-09T00:17:11.987069Z"
    }
   },
   "outputs": [],
   "source": [
    "start = time()\n",
    "full_pipeline_with_predictor.fit(x_train, y_train)\n",
    "np.random.seed(42)\n",
    "\n",
    "# Set up cross validation scores using ShuffleSplit() with 30 splits, 30% test_size \n",
    "\n",
    "cv30Splits = ShuffleSplit(n_splits=30, test_size=0.3, random_state=0)\n",
    "logit_scores = cross_val_score(full_pipeline_with_predictor, x_train, y_train, cv=cv30Splits)             \n",
    "\n",
    "logit_score_train = logit_scores.mean()\n",
    "train_time = np.round(time() - start, 4)\n",
    "\n",
    "# Time and score test predictions\n",
    "start = time()\n",
    "logit_score_test  = full_pipeline_with_predictor.score(x_test, y_test)\n",
    "test_time = np.round(time() - start, 4)"
   ]
  },
  {
   "cell_type": "code",
   "execution_count": 25,
   "metadata": {
    "ExecuteTime": {
     "end_time": "2018-11-09T00:17:17.543434Z",
     "start_time": "2018-11-09T00:17:17.529983Z"
    }
   },
   "outputs": [
    {
     "data": {
      "text/html": [
       "<div>\n",
       "<style scoped>\n",
       "    .dataframe tbody tr th:only-of-type {\n",
       "        vertical-align: middle;\n",
       "    }\n",
       "\n",
       "    .dataframe tbody tr th {\n",
       "        vertical-align: top;\n",
       "    }\n",
       "\n",
       "    .dataframe thead th {\n",
       "        text-align: right;\n",
       "    }\n",
       "</style>\n",
       "<table border=\"1\" class=\"dataframe\">\n",
       "  <thead>\n",
       "    <tr style=\"text-align: right;\">\n",
       "      <th></th>\n",
       "      <th>ExpID</th>\n",
       "      <th>Cross fold train accuracy</th>\n",
       "      <th>Test Accuracy</th>\n",
       "      <th>p-value</th>\n",
       "      <th>Train Time(s)</th>\n",
       "      <th>Test Time(s)</th>\n",
       "      <th>Experiment description</th>\n",
       "    </tr>\n",
       "  </thead>\n",
       "  <tbody>\n",
       "    <tr>\n",
       "      <td>0</td>\n",
       "      <td>Baseline</td>\n",
       "      <td>79.6</td>\n",
       "      <td>79.9</td>\n",
       "      <td>---</td>\n",
       "      <td>1.169</td>\n",
       "      <td>0.0081</td>\n",
       "      <td>Untuned LogisticRegression</td>\n",
       "    </tr>\n",
       "  </tbody>\n",
       "</table>\n",
       "</div>"
      ],
      "text/plain": [
       "      ExpID  Cross fold train accuracy  Test Accuracy p-value  Train Time(s)  \\\n",
       "0  Baseline                       79.6           79.9     ---          1.169   \n",
       "\n",
       "   Test Time(s)      Experiment description  \n",
       "0        0.0081  Untuned LogisticRegression  "
      ]
     },
     "execution_count": 25,
     "metadata": {},
     "output_type": "execute_result"
    }
   ],
   "source": [
    "results.loc[0] = [\"Baseline\", pct(logit_score_train), np.round(pct(logit_score_test),3), \n",
    "                  \"---\", train_time, test_time, \"Untuned LogisticRegression\"]\n",
    "results"
   ]
  },
  {
   "cell_type": "markdown",
   "metadata": {},
   "source": [
    "## Conduct Grid Search using a variety of Classification Algorithms"
   ]
  },
  {
   "cell_type": "code",
   "execution_count": 26,
   "metadata": {
    "ExecuteTime": {
     "end_time": "2018-11-09T00:26:48.823849Z",
     "start_time": "2018-11-09T00:26:48.804151Z"
    }
   },
   "outputs": [],
   "source": [
    "\n",
    "# A Function to execute the grid search and record the results.\n",
    "def ConductGridSearch(X_train, y_train, X_test, y_test, i=0, prefix='', n_jobs=-1,verbose=1):\n",
    "    # Create a list of classifiers for our grid search experiment\n",
    "    classifiers = [\n",
    "        ('Logistic Regression', LogisticRegression(random_state=42)),\n",
    "        ('K-Nearest Neighbors', KNeighborsClassifier()),\n",
    "        ('Naive Bayes', GaussianNB()),\n",
    "        ('Support Vector', SVC(random_state=42)),\n",
    "        ('Stochastic GD', SGDClassifier(random_state=42)),\n",
    "        ('RandomForest', RandomForestClassifier()),\n",
    "    ]\n",
    "\n",
    "    # Arrange grid search parameters for each classifier\n",
    "    params_grid = {\n",
    "        'Logistic Regression': {\n",
    "            'penalty': ('l1', 'l2'),\n",
    "            'tol': (0.0001, 0.00001, 0.0000001), \n",
    "            'C': (10, 1, 0.1, 0.01),\n",
    "        },\n",
    "        'K-Nearest Neighbors': {\n",
    "            'n_neighbors': (3, 5, 7, 8, 11),\n",
    "            'p': (1,2),\n",
    "        },\n",
    "        'Naive Bayes': {},\n",
    "        'Support Vector' : {\n",
    "            'kernel': ('rbf', 'poly'),     \n",
    "            'degree': (1, 2, 3, 4, 5),\n",
    "            'C': (10, 1, 0.1, 0.01),\n",
    "        },\n",
    "        'Stochastic GD': {\n",
    "            'loss': ('hinge', 'perceptron', 'log'),\n",
    "            'penalty': ('l1', 'l2', 'elasticnet'),\n",
    "            'tol': (0.0001, 0.00001, 0.0000001), \n",
    "            'alpha': (0.1, 0.01, 0.001, 0.0001), \n",
    "        },\n",
    "        'RandomForest':  {\n",
    "            'max_depth': [9, 15, 22, 26, 30],\n",
    "            'max_features': [1, 3, 5],\n",
    "            'min_samples_split': [5, 10, 15],\n",
    "            'min_samples_leaf': [3, 5, 10],\n",
    "            'bootstrap': [False],\n",
    "            'n_estimators':[20, 80, 150, 200, 300]},\n",
    "    }\n",
    "    \n",
    "    for (name, classifier) in classifiers:\n",
    "        i += 1\n",
    "        # Print classifier and parameters\n",
    "        print('****** START',prefix, name,'*****')\n",
    "        parameters = params_grid[name]\n",
    "        print(\"Parameters:\")\n",
    "        for p in sorted(parameters.keys()):\n",
    "            print(\"\\t\"+str(p)+\": \"+ str(parameters[p]))\n",
    "        \n",
    "        # generate the pipeline\n",
    "        full_pipeline_with_predictor = Pipeline([\n",
    "        (\"preparation\", full_pipeline),\n",
    "        (\"predictor\", classifier)\n",
    "        ])\n",
    "        \n",
    "        # Execute the grid search\n",
    "        params = {}\n",
    "        for p in parameters.keys():\n",
    "            pipe_key = 'predictor__'+str(p)\n",
    "            params[pipe_key] = parameters[p] \n",
    "        grid_search = GridSearchCV(full_pipeline_with_predictor, params, scoring='accuracy', cv=5, verbose=1)\n",
    "        grid_search.fit(X_train, y_train)\n",
    "                \n",
    "        # Best estimator score\n",
    "        best_train = pct(grid_search.best_score_)\n",
    "\n",
    "        # Best estimator fitting time\n",
    "        start = time()\n",
    "        grid_search.best_estimator_.fit(x_train, y_train)\n",
    "        train_time = round(time() - start, 4)\n",
    "\n",
    "        # Best estimator prediction time\n",
    "        start = time()\n",
    "        best_test_accuracy = pct(grid_search.best_estimator_.score(X_test, y_test))\n",
    "        test_time = round(time() - start, 4)\n",
    "\n",
    "        # Generate 30 training accuracy scores with the best estimator and 30-split CV\n",
    "        # To calculate the best_train_accuracy use the pct() and mean() methods\n",
    "        #==================================================#\n",
    "        #               Your code starts here              #\n",
    "        #==================================================#\n",
    "        best_train_scores = cross_val_score(grid_search.best_estimator_, X_train, y_train, cv=cv30Splits)\n",
    "        best_train_accuracy = pct(np.mean(best_train_scores))       \n",
    "        #==================================================#\n",
    "        #               Your code ends here                #\n",
    "        #               Please don't add code below here   #\n",
    "        #==================================================#    \n",
    "       \n",
    "        # Conduct t-test with baseline logit (control) and best estimator (experiment)\n",
    "        (t_stat, p_value) = stats.ttest_rel(logit_scores, best_train_scores)\n",
    "        \n",
    "        # Collect the best parameters found by the grid search\n",
    "        print(\"Best Parameters:\")\n",
    "        best_parameters = grid_search.best_estimator_.get_params()\n",
    "        param_dump = []\n",
    "        for param_name in sorted(params.keys()):\n",
    "            param_dump.append((param_name, best_parameters[param_name]))\n",
    "            print(\"\\t\"+str(param_name)+\": \" + str(best_parameters[param_name]))\n",
    "        print(\"****** FINISH\",prefix,name,\" *****\")\n",
    "        print(\"\")\n",
    "        \n",
    "        # Record the results\n",
    "        results.loc[i] = [prefix+name, best_train_accuracy, best_test_accuracy, round(p_value,5), train_time, test_time, json.dumps(param_dump)]"
   ]
  },
  {
   "cell_type": "code",
   "execution_count": null,
   "metadata": {
    "ExecuteTime": {
     "end_time": "2018-11-09T00:35:36.766006Z",
     "start_time": "2018-11-09T00:26:52.737779Z"
    },
    "code_folding": []
   },
   "outputs": [
    {
     "name": "stdout",
     "output_type": "stream",
     "text": [
      "****** START Best Model: Logistic Regression *****\n",
      "Parameters:\n",
      "\tC: (10, 1, 0.1, 0.01)\n",
      "\tpenalty: ('l1', 'l2')\n",
      "\ttol: (0.0001, 1e-05, 1e-07)\n",
      "Fitting 5 folds for each of 24 candidates, totalling 120 fits\n"
     ]
    },
    {
     "name": "stderr",
     "output_type": "stream",
     "text": [
      "[Parallel(n_jobs=1)]: Using backend SequentialBackend with 1 concurrent workers.\n",
      "[Parallel(n_jobs=1)]: Done 120 out of 120 | elapsed:    3.1s finished\n"
     ]
    },
    {
     "name": "stdout",
     "output_type": "stream",
     "text": [
      "Best Parameters:\n",
      "\tpredictor__C: 0.1\n",
      "\tpredictor__penalty: l2\n",
      "\tpredictor__tol: 0.0001\n",
      "****** FINISH Best Model: Logistic Regression  *****\n",
      "\n",
      "****** START Best Model: K-Nearest Neighbors *****\n",
      "Parameters:\n",
      "\tn_neighbors: (3, 5, 7, 8, 11)\n",
      "\tp: (1, 2)\n",
      "Fitting 5 folds for each of 10 candidates, totalling 50 fits\n"
     ]
    },
    {
     "name": "stderr",
     "output_type": "stream",
     "text": [
      "[Parallel(n_jobs=1)]: Using backend SequentialBackend with 1 concurrent workers.\n",
      "[Parallel(n_jobs=1)]: Done  50 out of  50 | elapsed:    1.8s finished\n"
     ]
    },
    {
     "name": "stdout",
     "output_type": "stream",
     "text": [
      "Best Parameters:\n",
      "\tpredictor__n_neighbors: 11\n",
      "\tpredictor__p: 1\n",
      "****** FINISH Best Model: K-Nearest Neighbors  *****\n",
      "\n",
      "****** START Best Model: Naive Bayes *****\n",
      "Parameters:\n",
      "Fitting 5 folds for each of 1 candidates, totalling 5 fits\n"
     ]
    },
    {
     "name": "stderr",
     "output_type": "stream",
     "text": [
      "[Parallel(n_jobs=1)]: Using backend SequentialBackend with 1 concurrent workers.\n",
      "[Parallel(n_jobs=1)]: Done   5 out of   5 | elapsed:    0.0s finished\n"
     ]
    },
    {
     "name": "stdout",
     "output_type": "stream",
     "text": [
      "Best Parameters:\n",
      "****** FINISH Best Model: Naive Bayes  *****\n",
      "\n",
      "****** START Best Model: Support Vector *****\n",
      "Parameters:\n",
      "\tC: (10, 1, 0.1, 0.01)\n",
      "\tdegree: (1, 2, 3, 4, 5)\n",
      "\tkernel: ('rbf', 'poly')\n",
      "Fitting 5 folds for each of 40 candidates, totalling 200 fits\n"
     ]
    },
    {
     "name": "stderr",
     "output_type": "stream",
     "text": [
      "[Parallel(n_jobs=1)]: Using backend SequentialBackend with 1 concurrent workers.\n",
      "[Parallel(n_jobs=1)]: Done 200 out of 200 | elapsed:    8.7s finished\n"
     ]
    },
    {
     "name": "stdout",
     "output_type": "stream",
     "text": [
      "Best Parameters:\n",
      "\tpredictor__C: 10\n",
      "\tpredictor__degree: 2\n",
      "\tpredictor__kernel: poly\n",
      "****** FINISH Best Model: Support Vector  *****\n",
      "\n",
      "****** START Best Model: Stochastic GD *****\n",
      "Parameters:\n",
      "\talpha: (0.1, 0.01, 0.001, 0.0001)\n",
      "\tloss: ('hinge', 'perceptron', 'log')\n",
      "\tpenalty: ('l1', 'l2', 'elasticnet')\n",
      "\ttol: (0.0001, 1e-05, 1e-07)\n",
      "Fitting 5 folds for each of 108 candidates, totalling 540 fits\n"
     ]
    },
    {
     "name": "stderr",
     "output_type": "stream",
     "text": [
      "[Parallel(n_jobs=1)]: Using backend SequentialBackend with 1 concurrent workers.\n",
      "[Parallel(n_jobs=1)]: Done 540 out of 540 | elapsed:   18.1s finished\n"
     ]
    },
    {
     "name": "stdout",
     "output_type": "stream",
     "text": [
      "Best Parameters:\n",
      "\tpredictor__alpha: 0.01\n",
      "\tpredictor__loss: log\n",
      "\tpredictor__penalty: l2\n",
      "\tpredictor__tol: 0.0001\n",
      "****** FINISH Best Model: Stochastic GD  *****\n",
      "\n",
      "****** START Best Model: RandomForest *****\n",
      "Parameters:\n",
      "\tbootstrap: [False]\n",
      "\tmax_depth: [9, 15, 22, 26, 30]\n",
      "\tmax_features: [1, 3, 5]\n",
      "\tmin_samples_leaf: [3, 5, 10]\n",
      "\tmin_samples_split: [5, 10, 15]\n",
      "\tn_estimators: [20, 80, 150, 200, 300]\n",
      "Fitting 5 folds for each of 675 candidates, totalling 3375 fits\n"
     ]
    },
    {
     "name": "stderr",
     "output_type": "stream",
     "text": [
      "[Parallel(n_jobs=1)]: Using backend SequentialBackend with 1 concurrent workers.\n"
     ]
    }
   ],
   "source": [
    "%%time\n",
    "\n",
    "# Main function\n",
    "if __name__ == \"__main__\":\n",
    "    ConductGridSearch(x_train, y_train, x_test, y_test, 0, \"Best Model:\",  n_jobs=-1,verbose=1)"
   ]
  },
  {
   "cell_type": "code",
   "execution_count": null,
   "metadata": {
    "ExecuteTime": {
     "end_time": "2018-11-09T00:35:36.843340Z",
     "start_time": "2018-11-09T00:35:36.832770Z"
    }
   },
   "outputs": [],
   "source": [
    "results"
   ]
  },
  {
   "cell_type": "markdown",
   "metadata": {},
   "source": [
    "## Observations"
   ]
  },
  {
   "cell_type": "markdown",
   "metadata": {},
   "source": [
    "* The Support Vector Classifier with parameters [C=1, degree=1, kernel=rbf] had the best overall performance  by the Random Forest classifier. The p-values of 0.000 and 0001, respectively, indicate that both results are signficantly different from the baseline Logistic Regression model. \n",
    "* There tuned Logistic Regression was not statistically different than the baseline (untuned) model."
   ]
  },
  {
   "cell_type": "code",
   "execution_count": null,
   "metadata": {},
   "outputs": [],
   "source": []
  },
  {
   "cell_type": "code",
   "execution_count": null,
   "metadata": {},
   "outputs": [],
   "source": []
  }
 ],
 "metadata": {
  "kernelspec": {
   "display_name": "Python 3",
   "language": "python",
   "name": "python3"
  },
  "language_info": {
   "codemirror_mode": {
    "name": "ipython",
    "version": 3
   },
   "file_extension": ".py",
   "mimetype": "text/x-python",
   "name": "python",
   "nbconvert_exporter": "python",
   "pygments_lexer": "ipython3",
   "version": "3.7.4"
  },
  "toc": {
   "base_numbering": 1,
   "nav_menu": {},
   "number_sections": true,
   "sideBar": true,
   "skip_h1_title": false,
   "title_cell": "Table of Contents",
   "title_sidebar": "Contents",
   "toc_cell": false,
   "toc_position": {
    "height": "calc(100% - 180px)",
    "left": "10px",
    "top": "150px",
    "width": "288px"
   },
   "toc_section_display": "block",
   "toc_window_display": true
  },
  "varInspector": {
   "cols": {
    "lenName": 16,
    "lenType": 16,
    "lenVar": 40
   },
   "kernels_config": {
    "python": {
     "delete_cmd_postfix": "",
     "delete_cmd_prefix": "del ",
     "library": "var_list.py",
     "varRefreshCmd": "print(var_dic_list())"
    },
    "r": {
     "delete_cmd_postfix": ") ",
     "delete_cmd_prefix": "rm(",
     "library": "var_list.r",
     "varRefreshCmd": "cat(var_dic_list()) "
    }
   },
   "types_to_exclude": [
    "module",
    "function",
    "builtin_function_or_method",
    "instance",
    "_Feature"
   ],
   "window_display": false
  }
 },
 "nbformat": 4,
 "nbformat_minor": 1
}
